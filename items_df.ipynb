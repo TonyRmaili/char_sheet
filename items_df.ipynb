{
 "cells": [
  {
   "cell_type": "code",
   "execution_count": 19,
   "metadata": {},
   "outputs": [],
   "source": [
    "from IPython.core.interactiveshell import InteractiveShell\n",
    "InteractiveShell.ast_node_interactivity = \"all\"\n",
    "import pandas as pd\n",
    "import numpy as np\n",
    "import json\n",
    "\n",
    "with open('./tools_data/items.json', 'r') as file:\n",
    "    data = json.load(file)\n",
    "\n",
    "    df = pd.json_normalize(data['itemGroup'])\n",
    "\n"
   ]
  },
  {
   "cell_type": "code",
   "execution_count": 20,
   "metadata": {},
   "outputs": [
    {
     "data": {
      "text/plain": [
       "Index(['name', 'page', 'rarity', 'reqAttune', 'wondrous', 'tattoo', 'entries',\n",
       "       'items', 'baseItem', 'type', 'reqAttuneTags', 'weight',\n",
       "       'weaponCategory', 'property', 'dmg1', 'dmgType', 'bonusWeapon',\n",
       "       'hasFluffImages', 'scfType', 'focus', 'tier', 'immune', 'resist',\n",
       "       'conditionImmune', 'ac', 'bonusAc', 'stealth', 'attachedSpells',\n",
       "       'curse', 'strength', 'lootTables', 'srd', 'basicRules', 'sentient',\n",
       "       'range', 'recharge', 'charges', 'ammoType', 'bonusSavingThrow', 'dmg2',\n",
       "       'hasFluff', 'grantsProficiency', 'bonusWeaponAttack',\n",
       "       'modifySpeed.equal.fly', 'rechargeAmount', 'modifySpeed.equal.climb',\n",
       "       'otherSources', 'bonusSpellAttack', 'bonusSpellSaveDc', 'staff',\n",
       "       'ability.static.str'],\n",
       "      dtype='object')"
      ]
     },
     "execution_count": 20,
     "metadata": {},
     "output_type": "execute_result"
    }
   ],
   "source": [
    "\n",
    "df =df.drop(columns='source')\n",
    "df.columns"
   ]
  },
  {
   "cell_type": "code",
   "execution_count": 21,
   "metadata": {},
   "outputs": [],
   "source": [
    "df.drop(columns='page',inplace=True)\n"
   ]
  },
  {
   "cell_type": "code",
   "execution_count": 22,
   "metadata": {},
   "outputs": [],
   "source": [
    "df.drop(columns='type',inplace=True)"
   ]
  },
  {
   "cell_type": "code",
   "execution_count": 23,
   "metadata": {},
   "outputs": [],
   "source": [
    "# Specify the columns you want in the new DataFrame\n",
    "selected_columns = ['name', 'entries']\n",
    "\n",
    "# Create a new DataFrame with selected columns\n",
    "new_df = df[selected_columns]"
   ]
  },
  {
   "cell_type": "code",
   "execution_count": 24,
   "metadata": {},
   "outputs": [
    {
     "data": {
      "text/html": [
       "<div>\n",
       "<style scoped>\n",
       "    .dataframe tbody tr th:only-of-type {\n",
       "        vertical-align: middle;\n",
       "    }\n",
       "\n",
       "    .dataframe tbody tr th {\n",
       "        vertical-align: top;\n",
       "    }\n",
       "\n",
       "    .dataframe thead th {\n",
       "        text-align: right;\n",
       "    }\n",
       "</style>\n",
       "<table border=\"1\" class=\"dataframe\">\n",
       "  <thead>\n",
       "    <tr style=\"text-align: right;\">\n",
       "      <th></th>\n",
       "      <th>name</th>\n",
       "      <th>entries</th>\n",
       "    </tr>\n",
       "  </thead>\n",
       "  <tbody>\n",
       "    <tr>\n",
       "      <th>0</th>\n",
       "      <td>Absorbing Tattoo</td>\n",
       "      <td>[Produced by a special needle, this magic tatt...</td>\n",
       "    </tr>\n",
       "    <tr>\n",
       "      <th>1</th>\n",
       "      <td>Agony</td>\n",
       "      <td>[Utilized in countless tortures and slow execu...</td>\n",
       "    </tr>\n",
       "    <tr>\n",
       "      <th>2</th>\n",
       "      <td>Arcane Focus</td>\n",
       "      <td>NaN</td>\n",
       "    </tr>\n",
       "    <tr>\n",
       "      <th>3</th>\n",
       "      <td>Armor of Resistance</td>\n",
       "      <td>[You have resistance to one type of damage whi...</td>\n",
       "    </tr>\n",
       "    <tr>\n",
       "      <th>4</th>\n",
       "      <td>Armor of the Valiant Soul</td>\n",
       "      <td>[This antique armor forged from jade and black...</td>\n",
       "    </tr>\n",
       "  </tbody>\n",
       "</table>\n",
       "</div>"
      ],
      "text/plain": [
       "                        name  \\\n",
       "0           Absorbing Tattoo   \n",
       "1                      Agony   \n",
       "2               Arcane Focus   \n",
       "3        Armor of Resistance   \n",
       "4  Armor of the Valiant Soul   \n",
       "\n",
       "                                             entries  \n",
       "0  [Produced by a special needle, this magic tatt...  \n",
       "1  [Utilized in countless tortures and slow execu...  \n",
       "2                                                NaN  \n",
       "3  [You have resistance to one type of damage whi...  \n",
       "4  [This antique armor forged from jade and black...  "
      ]
     },
     "execution_count": 24,
     "metadata": {},
     "output_type": "execute_result"
    }
   ],
   "source": [
    "new_df.head()"
   ]
  },
  {
   "cell_type": "code",
   "execution_count": 26,
   "metadata": {},
   "outputs": [],
   "source": [
    "# Assuming you have a Pandas DataFrame named 'new_df'\n",
    "new_df.to_json('./cleaned_data/items.json', orient='records', indent=4)\n"
   ]
  }
 ],
 "metadata": {
  "kernelspec": {
   "display_name": "base",
   "language": "python",
   "name": "python3"
  },
  "language_info": {
   "codemirror_mode": {
    "name": "ipython",
    "version": 3
   },
   "file_extension": ".py",
   "mimetype": "text/x-python",
   "name": "python",
   "nbconvert_exporter": "python",
   "pygments_lexer": "ipython3",
   "version": "3.9.13"
  }
 },
 "nbformat": 4,
 "nbformat_minor": 2
}
