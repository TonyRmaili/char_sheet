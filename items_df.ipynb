{
 "cells": [
  {
   "cell_type": "code",
   "execution_count": 1,
   "metadata": {},
   "outputs": [],
   "source": [
    "from IPython.core.interactiveshell import InteractiveShell\n",
    "InteractiveShell.ast_node_interactivity = \"all\"\n",
    "import pandas as pd\n",
    "import numpy as np\n",
    "import json\n",
    "\n",
    "with open('./tools_data/items.json', 'r') as file:\n",
    "    data = json.load(file)\n",
    "\n",
    "    df = pd.json_normalize(data['itemGroup'])\n",
    "\n"
   ]
  },
  {
   "cell_type": "code",
   "execution_count": 2,
   "metadata": {},
   "outputs": [
    {
     "data": {
      "text/plain": [
       "Index(['name', 'page', 'rarity', 'reqAttune', 'wondrous', 'tattoo', 'entries',\n",
       "       'items', 'baseItem', 'type', 'reqAttuneTags', 'weight',\n",
       "       'weaponCategory', 'property', 'dmg1', 'dmgType', 'bonusWeapon',\n",
       "       'hasFluffImages', 'scfType', 'focus', 'tier', 'immune', 'resist',\n",
       "       'conditionImmune', 'ac', 'bonusAc', 'stealth', 'attachedSpells',\n",
       "       'curse', 'strength', 'lootTables', 'srd', 'basicRules', 'sentient',\n",
       "       'range', 'recharge', 'charges', 'ammoType', 'bonusSavingThrow', 'dmg2',\n",
       "       'hasFluff', 'grantsProficiency', 'bonusWeaponAttack',\n",
       "       'modifySpeed.equal.fly', 'rechargeAmount', 'modifySpeed.equal.climb',\n",
       "       'otherSources', 'bonusSpellAttack', 'bonusSpellSaveDc', 'staff',\n",
       "       'ability.static.str'],\n",
       "      dtype='object')"
      ]
     },
     "execution_count": 2,
     "metadata": {},
     "output_type": "execute_result"
    }
   ],
   "source": [
    "\n",
    "df =df.drop(columns='source')\n",
    "df.columns"
   ]
  },
  {
   "cell_type": "code",
   "execution_count": 3,
   "metadata": {},
   "outputs": [],
   "source": [
    "df.drop(columns='page',inplace=True)\n"
   ]
  },
  {
   "cell_type": "code",
   "execution_count": 4,
   "metadata": {},
   "outputs": [],
   "source": [
    "df.drop(columns='type',inplace=True)"
   ]
  },
  {
   "cell_type": "code",
   "execution_count": 5,
   "metadata": {},
   "outputs": [],
   "source": [
    "# Specify the columns you want in the new DataFrame\n",
    "selected_columns = ['name', 'entries']\n",
    "\n",
    "# Create a new DataFrame with selected columns\n",
    "new_df = df[selected_columns]"
   ]
  },
  {
   "cell_type": "code",
   "execution_count": 6,
   "metadata": {},
   "outputs": [
    {
     "data": {
      "text/html": [
       "<div>\n",
       "<style scoped>\n",
       "    .dataframe tbody tr th:only-of-type {\n",
       "        vertical-align: middle;\n",
       "    }\n",
       "\n",
       "    .dataframe tbody tr th {\n",
       "        vertical-align: top;\n",
       "    }\n",
       "\n",
       "    .dataframe thead th {\n",
       "        text-align: right;\n",
       "    }\n",
       "</style>\n",
       "<table border=\"1\" class=\"dataframe\">\n",
       "  <thead>\n",
       "    <tr style=\"text-align: right;\">\n",
       "      <th></th>\n",
       "      <th>name</th>\n",
       "      <th>entries</th>\n",
       "    </tr>\n",
       "  </thead>\n",
       "  <tbody>\n",
       "    <tr>\n",
       "      <th>0</th>\n",
       "      <td>Absorbing Tattoo</td>\n",
       "      <td>[Produced by a special needle, this magic tatt...</td>\n",
       "    </tr>\n",
       "    <tr>\n",
       "      <th>1</th>\n",
       "      <td>Agony</td>\n",
       "      <td>[Utilized in countless tortures and slow execu...</td>\n",
       "    </tr>\n",
       "    <tr>\n",
       "      <th>2</th>\n",
       "      <td>Arcane Focus</td>\n",
       "      <td>NaN</td>\n",
       "    </tr>\n",
       "    <tr>\n",
       "      <th>3</th>\n",
       "      <td>Armor of Resistance</td>\n",
       "      <td>[You have resistance to one type of damage whi...</td>\n",
       "    </tr>\n",
       "    <tr>\n",
       "      <th>4</th>\n",
       "      <td>Armor of the Valiant Soul</td>\n",
       "      <td>[This antique armor forged from jade and black...</td>\n",
       "    </tr>\n",
       "  </tbody>\n",
       "</table>\n",
       "</div>"
      ],
      "text/plain": [
       "                        name  \\\n",
       "0           Absorbing Tattoo   \n",
       "1                      Agony   \n",
       "2               Arcane Focus   \n",
       "3        Armor of Resistance   \n",
       "4  Armor of the Valiant Soul   \n",
       "\n",
       "                                             entries  \n",
       "0  [Produced by a special needle, this magic tatt...  \n",
       "1  [Utilized in countless tortures and slow execu...  \n",
       "2                                                NaN  \n",
       "3  [You have resistance to one type of damage whi...  \n",
       "4  [This antique armor forged from jade and black...  "
      ]
     },
     "execution_count": 6,
     "metadata": {},
     "output_type": "execute_result"
    }
   ],
   "source": [
    "new_df.head()"
   ]
  },
  {
   "cell_type": "code",
   "execution_count": 7,
   "metadata": {},
   "outputs": [],
   "source": [
    "# Assuming you have a Pandas DataFrame named 'new_df'\n",
    "new_df.to_json('./cleaned_data/items.json', orient='records', indent=4)\n"
   ]
  },
  {
   "cell_type": "code",
   "execution_count": 69,
   "metadata": {},
   "outputs": [
    {
     "data": {
      "text/plain": [
       "Index(['name', 'rarity', 'reqAttune', 'wondrous', 'tattoo', 'entries', 'items',\n",
       "       'baseItem', 'reqAttuneTags', 'weight', 'weaponCategory', 'property',\n",
       "       'dmg1', 'dmgType', 'bonusWeapon', 'hasFluffImages', 'scfType', 'focus',\n",
       "       'tier', 'immune', 'resist', 'conditionImmune', 'ac', 'bonusAc',\n",
       "       'stealth', 'attachedSpells', 'curse', 'strength', 'lootTables', 'srd',\n",
       "       'basicRules', 'sentient', 'range', 'recharge', 'charges', 'ammoType',\n",
       "       'bonusSavingThrow', 'dmg2', 'hasFluff', 'grantsProficiency',\n",
       "       'bonusWeaponAttack', 'modifySpeed.equal.fly', 'rechargeAmount',\n",
       "       'modifySpeed.equal.climb', 'otherSources', 'bonusSpellAttack',\n",
       "       'bonusSpellSaveDc', 'staff', 'ability.static.str'],\n",
       "      dtype='object')"
      ]
     },
     "execution_count": 69,
     "metadata": {},
     "output_type": "execute_result"
    }
   ],
   "source": [
    "df.columns"
   ]
  },
  {
   "cell_type": "code",
   "execution_count": 74,
   "metadata": {},
   "outputs": [
    {
     "name": "stdout",
     "output_type": "stream",
     "text": [
      "name Shard Solitaire\n",
      "rarity legendary\n",
      "reqAttune True\n",
      "wondrous True\n",
      "entries ['This gemstone contains an unstable extradimensional rift. Its facets are ribboned with iridescent veins that seem to move of their own accord. Five types of shard solitaire are known to exist, each one a different type of gemstone, as shown in the Shard Solitaire Types table.', {'type': 'entries', 'name': 'Rift Step', 'entries': [\"As a bonus action, while wearing or holding the shard solitaire, you can teleport yourself, along with anything you're wearing or carrying, to an unoccupied space you can see within 30 feet of yourself.\", \"When you use this property, you can tap into the unstable power of the stone's extradimensional rift to increase the teleport distance by up to 30 feet, but if you teleport more than 30 feet using Rift Step, you must succeed on a DC 16 Constitution saving throw or take {@damage 3d10} force damage immediately after you teleport.\"]}, {'type': 'entries', 'name': 'Spellcasting', 'entries': [\"The stone has 6 charges and regains {@dice 1d6} expended charges daily at dawn. The Shard Solitaire Types table lists the spells common to all shard solitaires, as well as the spells specific to each kind of stone. As an action, you can cast one of the stone's spells by expending the requisite number of charges, requiring no material components (save DC 16).\", {'type': 'table', 'colStyles': ['col-2 text-center', 'col-10'], 'colLabels': ['Shard Solitaire', 'Spells'], 'rows': [['All', \"{@spell Banishment} (3 charges; the target is banished to the stone's extradimensional space for the spell's duration), {@spell mirror image} (1 charge)\"], ['Black sapphire', '{@spell Blight} (3 charges), {@spell finger of death} (6 charges)'], ['Diamond', '{@spell Ice storm} (3 charges), {@spell simulacrum} (6 charges; the duplicate created by the spell has the same number of hit points as the creature it imitates)'], ['Jacinth', '{@spell Fireball} (2 charges), {@spell fire storm} (6 charges)'], ['Rainbow pearl', '{@spell Prismatic spray} (6 charges), {@spell water breathing} (2 charges)'], ['Ruby', '{@spell Fly} (2 charges), {@spell teleport} (6 charges)']]}]}]\n",
      "items ['Shard Solitaire (Black Sapphire)|KftGV', 'Shard Solitaire (Diamond)|KftGV', 'Shard Solitaire (Jacinth)|KftGV', 'Shard Solitaire (Rainbow Pearl)|KftGV', 'Shard Solitaire (Ruby)|KftGV']\n",
      "hasFluffImages True\n",
      "attachedSpells ['mirror image', 'banishment']\n",
      "recharge dawn\n",
      "charges 6.0\n",
      "rechargeAmount {@dice 1d6}\n"
     ]
    }
   ],
   "source": [
    "\n",
    "for i,j in df.loc[67].items():\n",
    "    try:\n",
    "        if isinstance(j, list):\n",
    "            print(i,j)\n",
    "        if isinstance(j, dict):\n",
    "            print(i,j)\n",
    "        elif not pd.isna(j):\n",
    "            print(i,j)\n",
    "    except ValueError:\n",
    "        pass"
   ]
  },
  {
   "cell_type": "code",
   "execution_count": 60,
   "metadata": {},
   "outputs": [
    {
     "data": {
      "text/plain": [
       "name                                                        Absorbing Tattoo\n",
       "rarity                                                             very rare\n",
       "reqAttune                                                               True\n",
       "wondrous                                                                True\n",
       "tattoo                                                                  True\n",
       "entries                    [Produced by a special needle, this magic tatt...\n",
       "items                      [Acid Absorbing Tattoo|TCE, Cold Absorbing Tat...\n",
       "baseItem                                                                 NaN\n",
       "reqAttuneTags                                                            NaN\n",
       "weight                                                                   NaN\n",
       "weaponCategory                                                           NaN\n",
       "property                                                                 NaN\n",
       "dmg1                                                                     NaN\n",
       "dmgType                                                                  NaN\n",
       "bonusWeapon                                                              NaN\n",
       "hasFluffImages                                                           NaN\n",
       "scfType                                                                  NaN\n",
       "focus                                                                    NaN\n",
       "tier                                                                     NaN\n",
       "immune                                                                   NaN\n",
       "resist                                                                   NaN\n",
       "conditionImmune                                                          NaN\n",
       "ac                                                                       NaN\n",
       "bonusAc                                                                  NaN\n",
       "stealth                                                                  NaN\n",
       "attachedSpells                                                           NaN\n",
       "curse                                                                    NaN\n",
       "strength                                                                 NaN\n",
       "lootTables                                                               NaN\n",
       "srd                                                                      NaN\n",
       "basicRules                                                               NaN\n",
       "sentient                                                                 NaN\n",
       "range                                                                    NaN\n",
       "recharge                                                                 NaN\n",
       "charges                                                                  NaN\n",
       "ammoType                                                                 NaN\n",
       "bonusSavingThrow                                                         NaN\n",
       "dmg2                                                                     NaN\n",
       "hasFluff                                                                 NaN\n",
       "grantsProficiency                                                        NaN\n",
       "bonusWeaponAttack                                                        NaN\n",
       "modifySpeed.equal.fly                                                    NaN\n",
       "rechargeAmount                                                           NaN\n",
       "modifySpeed.equal.climb                                                  NaN\n",
       "otherSources                                                             NaN\n",
       "bonusSpellAttack                                                         NaN\n",
       "bonusSpellSaveDc                                                         NaN\n",
       "staff                                                                    NaN\n",
       "ability.static.str                                                       NaN\n",
       "Name: 0, dtype: object"
      ]
     },
     "execution_count": 60,
     "metadata": {},
     "output_type": "execute_result"
    }
   ],
   "source": [
    "df.loc[0]"
   ]
  }
 ],
 "metadata": {
  "kernelspec": {
   "display_name": "base",
   "language": "python",
   "name": "python3"
  },
  "language_info": {
   "codemirror_mode": {
    "name": "ipython",
    "version": 3
   },
   "file_extension": ".py",
   "mimetype": "text/x-python",
   "name": "python",
   "nbconvert_exporter": "python",
   "pygments_lexer": "ipython3",
   "version": "3.9.13"
  }
 },
 "nbformat": 4,
 "nbformat_minor": 2
}
