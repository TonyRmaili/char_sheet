{
 "cells": [
  {
   "cell_type": "code",
   "execution_count": 59,
   "metadata": {},
   "outputs": [
    {
     "name": "stdout",
     "output_type": "stream",
     "text": [
      "<class 'pandas.core.frame.DataFrame'>\n",
      "RangeIndex: 1702 entries, 0 to 1701\n",
      "Columns: 134 entries, name to weightNote\n",
      "dtypes: float64(42), object(92)\n",
      "memory usage: 1.7+ MB\n"
     ]
    }
   ],
   "source": [
    "from IPython.core.interactiveshell import InteractiveShell\n",
    "InteractiveShell.ast_node_interactivity = \"all\"\n",
    "import pandas as pd\n",
    "import numpy as np\n",
    "import json\n",
    "\n",
    "with open('./tools_data/items.json', 'r') as file:\n",
    "    data = json.load(file)\n",
    "\n",
    "    df = pd.json_normalize(data['item'])\n",
    "df.info()\n"
   ]
  },
  {
   "cell_type": "code",
   "execution_count": 60,
   "metadata": {},
   "outputs": [
    {
     "data": {
      "text/plain": [
       "Index(['name', 'source', 'page', 'rarity', 'reqAttune', 'reqAttuneTags',\n",
       "       'wondrous', 'bonusSpellAttack', 'bonusSpellSaveDc', 'focus',\n",
       "       ...\n",
       "       'typeAlt', 'dexterityMax', 'crewMin', 'crewMax', 'travelCost',\n",
       "       'shippingCost', 'spellScrollLevel', 'bonusAbilityCheck',\n",
       "       'ability.static.cha', 'weightNote'],\n",
       "      dtype='object', length=134)"
      ]
     },
     "execution_count": 60,
     "metadata": {},
     "output_type": "execute_result"
    }
   ],
   "source": [
    "df.columns"
   ]
  },
  {
   "cell_type": "code",
   "execution_count": 61,
   "metadata": {},
   "outputs": [
    {
     "data": {
      "text/plain": [
       "0              by an artificer\n",
       "1       by a cleric or paladin\n",
       "2                  by a wizard\n",
       "3                by a sorcerer\n",
       "4                    by a monk\n",
       "                 ...          \n",
       "1697                       NaN\n",
       "1698          by a spellcaster\n",
       "1699                       NaN\n",
       "1700                       NaN\n",
       "1701                       NaN\n",
       "Name: reqAttune, Length: 1702, dtype: object"
      ]
     },
     "execution_count": 61,
     "metadata": {},
     "output_type": "execute_result"
    }
   ],
   "source": [
    "df['reqAttune']"
   ]
  }
 ],
 "metadata": {
  "kernelspec": {
   "display_name": "base",
   "language": "python",
   "name": "python3"
  },
  "language_info": {
   "codemirror_mode": {
    "name": "ipython",
    "version": 3
   },
   "file_extension": ".py",
   "mimetype": "text/x-python",
   "name": "python",
   "nbconvert_exporter": "python",
   "pygments_lexer": "ipython3",
   "version": "3.9.13"
  }
 },
 "nbformat": 4,
 "nbformat_minor": 2
}
